{
 "cells": [
  {
   "cell_type": "code",
   "execution_count": 1,
   "metadata": {},
   "outputs": [],
   "source": [
    "import tkinter\n",
    "from tkinter import*\n",
    "import tkinter as tk\n",
    "from tkinter import messagebox, Label, Button, StringVar, IntVar, W, S, N, Entry\n",
    "import sqlite3\n",
    "import pandas as pd\n",
    "import matplotlib.pyplot as plt\n",
    "import numpy as np\n",
    "%matplotlib inline"
   ]
  },
  {
   "cell_type": "code",
   "execution_count": 2,
   "metadata": {},
   "outputs": [
    {
     "name": "stdout",
     "output_type": "stream",
     "text": [
      "You have submitted a record\n"
     ]
    }
   ],
   "source": [
    "window = tk.Tk()\n",
    "window.title(\"Focon Check\") \n",
    "window.geometry('800x600+0+0')\n",
    "header = Label(window, text=\"Focon Check\", font=(\"arial\",30,\"bold\"), fg=\"black\").pack()\n",
    "\n",
    "def create_connection(db_file):\n",
    "    con = None\n",
    "    try:\n",
    "        con = sqlite3.connect(db_file, timeout=15) \n",
    "    except Error as e:\n",
    "        print(e)\n",
    "    \n",
    "    return con\n",
    "\n",
    "database = r\"C:\\sqlite3\\focon2.db\"\n",
    "con = create_connection(database)\n",
    "\n",
    " #parameter\n",
    "L1 = Label(window, text = \"Name\", font=(\"halvetica\", 18)).place(x=10,y=100)\n",
    "L2 = Label(window, text = \"Age\", font=(\"arial\",18)).place(x=10,y=150)\n",
    "L3 = Label(window, text = \"Breakfast (Y/N)\", font=(\"arial\",18)).place(x=10,y=200)\n",
    "L4 = Label(window, text = \"Physical Activity\", font=(\"arial\",18)).place(x=10,y=250)\n",
    "L5 = Label(window, text = \"Sleeping Time\", font=(\"arial\",18)).place(x=10,y=300)\n",
    "L6 = Label(window, text = \"Have Medical Problem? (Y/N)\", font=(\"arial\",18)).place(x=10,y=350)\n",
    "L7 = Label(window, text = \"Have Emotional Problem? (Y/N)\", font=(\"arial\",18)).place(x=10,y=400)\n",
    "L8 = Label(window, text = \"Tanggal/bulan/tahun\", font=(\"arial\",18)).place(x=10,y=450)\n",
    "\n",
    "#variables\n",
    "\n",
    "nama = StringVar(window)\n",
    "umur = IntVar(window)\n",
    "sarapan = StringVar(window)\n",
    "fisik = StringVar(window)\n",
    "tidur = IntVar(window)\n",
    "sakit = StringVar(window)\n",
    "stress = StringVar(window)\n",
    "hari = StringVar(window)\n",
    "\n",
    "#Dictionary for drop down list\n",
    "\n",
    "\n",
    "#entry\n",
    "namaT = Entry(window, textvariable=nama)\n",
    "namaT.place(x=220,y=105)\n",
    "\n",
    "umurT = Entry(window, textvariable=umur)\n",
    "umurT.place(x=220,y=155)\n",
    "\n",
    "sarapanT = Entry(window, textvariable=sarapan)\n",
    "sarapanT.place(x=220,y=205)\n",
    "\n",
    "fisikT = Entry(window, textvariable=fisik)\n",
    "fisikT.place(x=220,y=255)\n",
    "\n",
    "tidurT = Entry(window, textvariable=tidur)\n",
    "tidurT.place(x=220,y=305)\n",
    "\n",
    "sakitT = Entry(window, textvariable=sakit)\n",
    "sakitT.place(x=350,y=355)\n",
    "\n",
    "stressT = Entry(window, textvariable=stress)\n",
    "stressT.place(x=360,y=405)\n",
    "\n",
    "hariT = Entry(window, textvariable=hari)\n",
    "hariT.place(x=250,y=455)\n",
    "\n",
    "c = con.cursor() #SQLite command, to connect to db so 'execute' method can be called    \n",
    "\n",
    "#get func to isolate the text entered in the entry boxes and submit to database\n",
    "def get():\n",
    "        print(\"You have submitted a record\")\n",
    "        name=nama.get()\n",
    "        age=umur.get()\n",
    "        breakfast=sarapan.get()\n",
    "        physic=fisik.get()\n",
    "        sleep = tidur.get()\n",
    "        sick = sakit.get()\n",
    "        stres = stress.get()\n",
    "        day = hari.get()\n",
    "        c.execute('CREATE TABLE IF NOT EXISTS parameter (name TEXT, age INTEGER, breakfast TEXT, physic TEXT, sleep INTEGER, sick TEXT, stres TEXT, day TEXT)') #SQL synta\n",
    "        c.execute('INSERT INTO parameter (name,age,breakfast,physic,sleep,sick,stres,day) VALUES (?, ?, ?, ?, ?, ?,?,?)', (name, age, breakfast, physic, sleep, sick, stres, day)) #Insert record into database.\n",
    "        con.commit()\n",
    "        \n",
    "        \n",
    " #Reset fields after submit\n",
    "        nama.set('')\n",
    "        umur.set('')\n",
    "        sarapan.set('')\n",
    "        fisik.set('')\n",
    "        tidur.set('')\n",
    "        sakit.set('')\n",
    "        stress.set('')  \n",
    "        hari.set('')\n",
    "\n",
    "        \n",
    "#Clear boxes when submit button is hit\n",
    "def clear():\n",
    "    \n",
    "    nama.set('')\n",
    "    umur.set('')\n",
    "    sarapan.set('')\n",
    "    fisik.set('')\n",
    "    tidur.set('')\n",
    "    sakit.set('')\n",
    "    stress.set('')\n",
    "    hari.set('')\n",
    "    \n",
    "button_1 = Button(window, text=\"Submit\",command=get)\n",
    "button_1.place(x=100,y=505)\n",
    "\n",
    "button_2 = Button(window,text= \"Clear\",command=clear)\n",
    "button_2.place(x=10,y=505)\n",
    "    \n",
    "window.mainloop()"
   ]
  },
  {
   "cell_type": "code",
   "execution_count": 3,
   "metadata": {},
   "outputs": [
    {
     "name": "stdout",
     "output_type": "stream",
     "text": [
      "                 name  age breakfast      physic  sleep sick stres       day\n",
      "0               nadia   20         Y           -      7    N     N  12/12/19\n",
      "1                kiki   20         Y           -      5    N     N  12/12/19\n",
      "2               RIZKY   12         Y  JALAN KAKI      8    Y     N  12/12/19\n",
      "3              Sabila   20         N           -      5    Y     Y  12/12/19\n",
      "4        Dian Shafira   20         Y  Jalan Kaki      5    N     Y  12/12/19\n",
      "5              MIQDAD   20         N  JALAN KAKI      6    N     N  12/12/19\n",
      "6       YANZA HATTARI   20         N  JALAN KAKI      6    N     Y  12/12/19\n",
      "7               RIFQY   20         Y  JALAN KAKI      6    N     Y  12/12/19\n",
      "8                DINI   20         Y           -      7    N     N  12/12/19\n",
      "9               ANINA   20         Y           -      4    N     Y  12/12/19\n",
      "10              MUMUS   21         N   STRECHING      5    Y     Y  13/12/19\n",
      "11               DAUD   20         N           -      6    N     N  13/12/19\n",
      "12               BAYU   21         Y  JALAN KAKI      8    N     N  13/12/19\n",
      "13              ZUFFY   20         N           -      7    N     Y  13/12/19\n",
      "14        FATHUR IMAM   21         Y  JALAN KAKI      6    N     N  13/12/19\n",
      "15  ABDURRAHMAN HANIF   20         Y  JALAN KAKI      7    N     Y  13/12/19\n",
      "16              ELVIN   21         Y        LARI      6    N     N  13/12/19\n",
      "17                JUL   21         N  JALAN KAKI      6    N     Y  13/12/19\n",
      "18               LILI   20         Y       JALAN      6    N     Y  13/12/19\n",
      "19    YASMIN AZ ZAHRA   20         Y  JALAN KAKI      5    N     N  13/12/19\n",
      "20               LULA   19         N           -      5    N     Y  13/12/19\n",
      "21        AZHAR RIFQY   19         Y   STRECHING      6    N     Y  13/12/19\n",
      "22               IBNU   20         N   STRECHING      5    N     Y  13/12/19\n",
      "23  AISSYA JELITAWATI   21         N           -      5    Y     Y  13/12/19\n",
      "24               RANI   22         N           -      5    N     Y  13/12/19\n",
      "25               AIDA   24         Y        YOGA      7    N     N  13/12/19\n",
      "26              RATNA   24         Y           -      7    N     N  13/12/19\n",
      "27              WULAN   25         Y    PILLATES      7    N     N  13/12/19\n",
      "28               MIRA   22         Y        LARI      8    N     N  13/12/19\n",
      "29             ZHARFA   20         N           -      4    N     N  13/13/19\n",
      "30               HIDA   20         N       JALAN      6    Y     N  13/12/19\n",
      "31       NADILA FITRI   20         Y     JOGGING      7    N     Y  13/12/19\n",
      "32       FAIZAL HUSNI   21         Y           -      7    N     N  13/12/19\n",
      "33              MITRA   19         Y           -      6    Y     Y  13/12/19\n",
      "34             ADILKO   22         N           -      6    Y     Y  13/12/19\n",
      "35     DEWI RAHMADANI   20         Y           -      7    N     Y  13/12/19\n",
      "36             NABILA   19         Y           -      8    N     N  13/12/19\n",
      "37             ALMYRA   19         Y           -      8    N     N  13/12/19\n",
      "38              RIZKY   12         N   STRECHING      7    N     Y  14/12/19\n",
      "39             ZHARFA   20         Y       SENAM      8    N     N  14/12/19\n",
      "40       NADILA FITRI   20         N           -      6    Y     N  14/12/19\n",
      "41       FAIZAL HUSNI   21         Y           Y      8    N     N  14/12/19\n",
      "42             MIQDAD   20         Y           -      6    Y     Y  14/12/19\n",
      "43              MITRA   19         N           -      8    N     N  14/12/19\n",
      "44      YANZA HATTARI   20         N           N      5    N     Y  14/12/19\n",
      "45                ABC   17         Y        YOGA      7    N     N  15/12/19\n",
      "46                BCD   20         N           -      5    Y     Y  13/12/19\n"
     ]
    }
   ],
   "source": [
    "#LOAD SQL DATABASE TO DATAFRAME\n",
    "cnx = sqlite3.connect(database)\n",
    "query = \"SELECT * FROM parameter\"\n",
    "df = pd.read_sql(query, cnx)\n",
    "print (df)"
   ]
  },
  {
   "cell_type": "code",
   "execution_count": 4,
   "metadata": {},
   "outputs": [
    {
     "name": "stdout",
     "output_type": "stream",
     "text": [
      "                 name  age breakfast      physic  sleep sick stres       day  \\\n",
      "0               nadia   20         Y           -      7    N     N  12/12/19   \n",
      "1                kiki   20         Y           -      5    N     N  12/12/19   \n",
      "2               RIZKY   12         Y  JALAN KAKI      8    Y     N  12/12/19   \n",
      "3              Sabila   20         N           -      5    Y     Y  12/12/19   \n",
      "4        Dian Shafira   20         Y  Jalan Kaki      5    N     Y  12/12/19   \n",
      "5              MIQDAD   20         N  JALAN KAKI      6    N     N  12/12/19   \n",
      "6       YANZA HATTARI   20         N  JALAN KAKI      6    N     Y  12/12/19   \n",
      "7               RIFQY   20         Y  JALAN KAKI      6    N     Y  12/12/19   \n",
      "8                DINI   20         Y           -      7    N     N  12/12/19   \n",
      "9               ANINA   20         Y           -      4    N     Y  12/12/19   \n",
      "10              MUMUS   21         N   STRECHING      5    Y     Y  13/12/19   \n",
      "11               DAUD   20         N           -      6    N     N  13/12/19   \n",
      "12               BAYU   21         Y  JALAN KAKI      8    N     N  13/12/19   \n",
      "13              ZUFFY   20         N           -      7    N     Y  13/12/19   \n",
      "14        FATHUR IMAM   21         Y  JALAN KAKI      6    N     N  13/12/19   \n",
      "15  ABDURRAHMAN HANIF   20         Y  JALAN KAKI      7    N     Y  13/12/19   \n",
      "16              ELVIN   21         Y        LARI      6    N     N  13/12/19   \n",
      "17                JUL   21         N  JALAN KAKI      6    N     Y  13/12/19   \n",
      "18               LILI   20         Y       JALAN      6    N     Y  13/12/19   \n",
      "19    YASMIN AZ ZAHRA   20         Y  JALAN KAKI      5    N     N  13/12/19   \n",
      "20               LULA   19         N           -      5    N     Y  13/12/19   \n",
      "21        AZHAR RIFQY   19         Y   STRECHING      6    N     Y  13/12/19   \n",
      "22               IBNU   20         N   STRECHING      5    N     Y  13/12/19   \n",
      "23  AISSYA JELITAWATI   21         N           -      5    Y     Y  13/12/19   \n",
      "24               RANI   22         N           -      5    N     Y  13/12/19   \n",
      "25               AIDA   24         Y        YOGA      7    N     N  13/12/19   \n",
      "26              RATNA   24         Y           -      7    N     N  13/12/19   \n",
      "27              WULAN   25         Y    PILLATES      7    N     N  13/12/19   \n",
      "28               MIRA   22         Y        LARI      8    N     N  13/12/19   \n",
      "29             ZHARFA   20         N           -      4    N     N  13/13/19   \n",
      "30               HIDA   20         N       JALAN      6    Y     N  13/12/19   \n",
      "31       NADILA FITRI   20         Y     JOGGING      7    N     Y  13/12/19   \n",
      "32       FAIZAL HUSNI   21         Y           -      7    N     N  13/12/19   \n",
      "33              MITRA   19         Y           -      6    Y     Y  13/12/19   \n",
      "34             ADILKO   22         N           -      6    Y     Y  13/12/19   \n",
      "35     DEWI RAHMADANI   20         Y           -      7    N     Y  13/12/19   \n",
      "36             NABILA   19         Y           -      8    N     N  13/12/19   \n",
      "37             ALMYRA   19         Y           -      8    N     N  13/12/19   \n",
      "38              RIZKY   12         N   STRECHING      7    N     Y  14/12/19   \n",
      "39             ZHARFA   20         Y       SENAM      8    N     N  14/12/19   \n",
      "40       NADILA FITRI   20         N           -      6    Y     N  14/12/19   \n",
      "41       FAIZAL HUSNI   21         Y           Y      8    N     N  14/12/19   \n",
      "42             MIQDAD   20         Y           -      6    Y     Y  14/12/19   \n",
      "43              MITRA   19         N           -      8    N     N  14/12/19   \n",
      "44      YANZA HATTARI   20         N           N      5    N     Y  14/12/19   \n",
      "45                ABC   17         Y        YOGA      7    N     N  15/12/19   \n",
      "46                BCD   20         N           -      5    Y     Y  13/12/19   \n",
      "\n",
      "         output  \n",
      "0         fokus  \n",
      "1   tidak fokus  \n",
      "2   tidak fokus  \n",
      "3   tidak fokus  \n",
      "4   tidak fokus  \n",
      "5         fokus  \n",
      "6   tidak fokus  \n",
      "7   tidak fokus  \n",
      "8         fokus  \n",
      "9   tidak fokus  \n",
      "10  tidak fokus  \n",
      "11  tidak fokus  \n",
      "12        fokus  \n",
      "13  tidak fokus  \n",
      "14  tidak fokus  \n",
      "15        fokus  \n",
      "16  tidak fokus  \n",
      "17  tidak fokus  \n",
      "18  tidak fokus  \n",
      "19  tidak fokus  \n",
      "20  tidak fokus  \n",
      "21  tidak fokus  \n",
      "22  tidak fokus  \n",
      "23  tidak fokus  \n",
      "24  tidak fokus  \n",
      "25        fokus  \n",
      "26        fokus  \n",
      "27        fokus  \n",
      "28        fokus  \n",
      "29  tidak fokus  \n",
      "30        fokus  \n",
      "31        fokus  \n",
      "32        fokus  \n",
      "33  tidak fokus  \n",
      "34  tidak fokus  \n",
      "35        fokus  \n",
      "36        fokus  \n",
      "37        fokus  \n",
      "38  tidak fokus  \n",
      "39        fokus  \n",
      "40  tidak fokus  \n",
      "41        fokus  \n",
      "42  tidak fokus  \n",
      "43  tidak fokus  \n",
      "44  tidak fokus  \n",
      "45        fokus  \n",
      "46  tidak fokus  \n"
     ]
    }
   ],
   "source": [
    "def tree(row):\n",
    "    if (row['breakfast'] == 'Y'):\n",
    "        if ((row['age']>=6) & (row['age']<=10)):\n",
    "            if (row['stres'] == 'Y'):\n",
    "                return \"tidak fokus\"\n",
    "            else :\n",
    "                if (row['sick'] == 'Y'):\n",
    "                    return \"fokus\"\n",
    "                else :\n",
    "                    return \"tidak fokus\"\n",
    "        elif ((row['age']>10)&(row['age']<=17)):\n",
    "            if (row['sick']=='Y'):\n",
    "                return \"tidak fokus\"\n",
    "            else :\n",
    "                return \"fokus\"\n",
    "        else :\n",
    "            if (row['sick']=='Y'):\n",
    "                return \"tidak fokus\"\n",
    "            else :\n",
    "                if (row['sleep'] > 6):\n",
    "                    return \"fokus\"\n",
    "                else :\n",
    "                    return \"tidak fokus\"\n",
    "    else :\n",
    "        if ((row['physic'] == 'N')|(row['physic']=='-')):\n",
    "            return \"tidak fokus\"\n",
    "        else :\n",
    "            if (row['stres'] == 'N'):\n",
    "                return \"fokus\"\n",
    "            else :\n",
    "                return \"tidak fokus\"\n",
    "            \n",
    "df['output']=df.apply(lambda row:tree(row), axis=1)\n",
    "print(df)"
   ]
  },
  {
   "cell_type": "code",
   "execution_count": 5,
   "metadata": {},
   "outputs": [],
   "source": [
    "#df.to_sql('newdat', cnx)\n",
    "df.to_sql('newdat',cnx,if_exists='replace',index=False)"
   ]
  },
  {
   "cell_type": "code",
   "execution_count": 94,
   "metadata": {},
   "outputs": [
    {
     "name": "stdout",
     "output_type": "stream",
     "text": [
      "                 name       day       output\n",
      "0               nadia  12/12/19        fokus\n",
      "1                kiki  12/12/19  tidak fokus\n",
      "2               RIZKY  12/12/19  tidak fokus\n",
      "3              Sabila  12/12/19  tidak fokus\n",
      "4        Dian Shafira  12/12/19  tidak fokus\n",
      "5              MIQDAD  12/12/19        fokus\n",
      "6       YANZA HATTARI  12/12/19  tidak fokus\n",
      "7               RIFQY  12/12/19  tidak fokus\n",
      "8                DINI  12/12/19        fokus\n",
      "9               ANINA  12/12/19  tidak fokus\n",
      "10              MUMUS  13/12/19  tidak fokus\n",
      "11               DAUD  13/12/19  tidak fokus\n",
      "12               BAYU  13/12/19        fokus\n",
      "13              ZUFFY  13/12/19  tidak fokus\n",
      "14        FATHUR IMAM  13/12/19  tidak fokus\n",
      "15  ABDURRAHMAN HANIF  13/12/19        fokus\n",
      "16              ELVIN  13/12/19  tidak fokus\n",
      "17                JUL  13/12/19  tidak fokus\n",
      "18               LILI  13/12/19  tidak fokus\n",
      "19    YASMIN AZ ZAHRA  13/12/19  tidak fokus\n",
      "20               LULA  13/12/19  tidak fokus\n",
      "21        AZHAR RIFQY  13/12/19  tidak fokus\n",
      "22               IBNU  13/12/19  tidak fokus\n",
      "23  AISSYA JELITAWATI  13/12/19  tidak fokus\n",
      "24               RANI  13/12/19  tidak fokus\n",
      "25               AIDA  13/12/19        fokus\n",
      "26              RATNA  13/12/19        fokus\n",
      "27              WULAN  13/12/19        fokus\n",
      "28               MIRA  13/12/19        fokus\n",
      "29             ZHARFA  13/13/19  tidak fokus\n",
      "30               HIDA  13/12/19        fokus\n",
      "31       NADILA FITRI  13/12/19        fokus\n",
      "32       FAIZAL HUSNI  13/12/19        fokus\n",
      "33              MITRA  13/12/19  tidak fokus\n",
      "34             ADILKO  13/12/19  tidak fokus\n",
      "35     DEWI RAHMADANI  13/12/19        fokus\n",
      "36             NABILA  13/12/19        fokus\n",
      "37             ALMYRA  13/12/19        fokus\n",
      "38              RIZKY  14/12/19  tidak fokus\n",
      "39             ZHARFA  14/12/19        fokus\n",
      "40       NADILA FITRI  14/12/19  tidak fokus\n",
      "41       FAIZAL HUSNI  14/12/19        fokus\n",
      "42             MIQDAD  14/12/19  tidak fokus\n",
      "43              MITRA  14/12/19  tidak fokus\n",
      "44      YANZA HATTARI  14/12/19  tidak fokus\n",
      "45                ABC  15/12/19        fokus\n"
     ]
    }
   ],
   "source": [
    "#visualisasi 1 : NAMA, TANGGAL, DAN FOKUS ATAU TIDAK\n",
    "data = df[['name','day','output']]\n",
    "print(data)"
   ]
  },
  {
   "cell_type": "code",
   "execution_count": 6,
   "metadata": {},
   "outputs": [
    {
     "name": "stdout",
     "output_type": "stream",
     "text": [
      "Data pada tanggal : 13/12/19\n"
     ]
    },
    {
     "data": {
      "text/plain": [
       "<matplotlib.axes._subplots.AxesSubplot at 0xfecab0>"
      ]
     },
     "execution_count": 6,
     "metadata": {},
     "output_type": "execute_result"
    },
    {
     "data": {
      "image/png": "[encoded data removed]",
      "text/plain": [
       "<Figure size 432x288 with 1 Axes>"
      ]
     },
     "metadata": {},
     "output_type": "display_data"
    }
   ],
   "source": [
    "#visualisasi 2 : persentase jumlah siswa yang fokus dan tidak fokus pada tanggal yang dipilih\n",
    "tgl = input(\"Data pada tanggal : \")\n",
    "new = df.groupby('day').get_group(tgl)\n",
    "new[\"output\"].value_counts().plot(kind='pie',autopct='%1.1f%%')"
   ]
  },
  {
   "cell_type": "code",
   "execution_count": 7,
   "metadata": {},
   "outputs": [
    {
     "name": "stdout",
     "output_type": "stream",
     "text": [
      "Nama: ZHARFA\n",
      "      name  age breakfast physic  sleep sick stres       day       output\n",
      "29  ZHARFA   20         N      -      4    N     N  13/13/19  tidak fokus\n",
      "39  ZHARFA   20         Y  SENAM      8    N     N  14/12/19        fokus\n"
     ]
    }
   ],
   "source": [
    "#visualisasi 3 : melihat data seseorang berdasarkan nama\n",
    "word = input(\"Nama: \")\n",
    "new1 = df.groupby('name').get_group(word)\n",
    "print(new1)"
   ]
  },
  {
   "cell_type": "code",
   "execution_count": 8,
   "metadata": {},
   "outputs": [],
   "source": [
    "from pylab import*"
   ]
  },
  {
   "cell_type": "code",
   "execution_count": 9,
   "metadata": {},
   "outputs": [
    {
     "data": {
      "text/plain": [
       "<matplotlib.axes._subplots.AxesSubplot at 0x6162e70>"
      ]
     },
     "execution_count": 9,
     "metadata": {},
     "output_type": "execute_result"
    },
    {
     "data": {
      "image/png": "[encoded data removed]",
      "text/plain": [
       "<Figure size 720x720 with 6 Axes>"
      ]
     },
     "metadata": {},
     "output_type": "display_data"
    }
   ],
   "source": [
    "#visualisasi 4 : faktor dominan penyebab tidak fokus\n",
    "fig,axs = plt.subplots(3,2, figsize = (10,10))\n",
    "\n",
    "subplot(3,2,1)\n",
    "new1 = df.groupby('output').get_group('tidak fokus')\n",
    "new1[\"sleep\"].value_counts().plot(kind='pie',autopct='%1.1f%%')\n",
    "\n",
    "subplot(3,2,2)\n",
    "new2 = df.groupby('output').get_group('tidak fokus')\n",
    "new2[\"age\"].value_counts().plot(kind='pie',autopct='%1.1f%%')\n",
    "\n",
    "subplot(3,2,3)\n",
    "new3 = df.groupby('output').get_group('tidak fokus')\n",
    "new3[\"breakfast\"].value_counts().plot(kind='pie',autopct='%1.1f%%')\n",
    "\n",
    "subplot(3,2,4)\n",
    "new1 = df.groupby('output').get_group('tidak fokus')\n",
    "new1[\"physic\"].value_counts().plot(kind='pie',autopct='%1.1f%%')\n",
    "\n",
    "subplot(3,2,5)\n",
    "new1 = df.groupby('output').get_group('tidak fokus')\n",
    "new1[\"sick\"].value_counts().plot(kind='pie',autopct='%1.1f%%')\n",
    "\n",
    "subplot(3,2,6)\n",
    "new1 = df.groupby('output').get_group('tidak fokus')\n",
    "new1[\"stres\"].value_counts().plot(kind='pie',autopct='%1.1f%%')\n",
    "\n"
   ]
  },
  {
   "cell_type": "code",
   "execution_count": 10,
   "metadata": {},
   "outputs": [
    {
     "data": {
      "text/plain": [
       "Text(0.5, 1.0, '5 Siswa dengan Intensitas Fokus Terendah')"
      ]
     },
     "execution_count": 10,
     "metadata": {},
     "output_type": "execute_result"
    },
    {
     "data": {
      "image/png": "[encoded data removed]",
      "text/plain": [
       "<Figure size 1080x360 with 2 Axes>"
      ]
     },
     "metadata": {
      "needs_background": "light"
     },
     "output_type": "display_data"
    }
   ],
   "source": [
    "#visualisasi 5 : 5 orang yang paling sering fokus\n",
    "\n",
    "fig,axs = plt.subplots(1,2, figsize = (15,5))\n",
    "subplot(1,2,1)\n",
    "new_1 = df.groupby('output').get_group('fokus')\n",
    "new_1[\"name\"].value_counts().head(5).plot(kind='bar')\n",
    "plt.xlabel('Nama')\n",
    "plt.ylabel('Intensitas')\n",
    "plt.title('5 Siswa dengan Intensitas Fokus Terbaik')\n",
    "\n",
    "subplot(1,2,2)\n",
    "new_1 = df.groupby('output').get_group('tidak fokus')\n",
    "new_1[\"name\"].value_counts().head(5).plot(kind='bar')\n",
    "plt.xlabel('Nama')\n",
    "plt.ylabel('Intensitas')\n",
    "plt.title('5 Siswa dengan Intensitas Fokus Terendah')"
   ]
  },
  {
   "cell_type": "code",
   "execution_count": null,
   "metadata": {},
   "outputs": [],
   "source": []
  }
 ],
 "metadata": {
  "kernelspec": {
   "display_name": "Python 3",
   "language": "python",
   "name": "python3"
  },
  "language_info": {
   "codemirror_mode": {
    "name": "ipython",
    "version": 3
   },
   "file_extension": ".py",
   "mimetype": "text/x-python",
   "name": "python",
   "nbconvert_exporter": "python",
   "pygments_lexer": "ipython3",
   "version": "3.7.4"
  }
 },
 "nbformat": 4,
 "nbformat_minor": 2
}
